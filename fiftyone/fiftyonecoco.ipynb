{
 "cells": [
  {
   "cell_type": "code",
   "execution_count": null,
   "id": "4de1f168",
   "metadata": {},
   "outputs": [],
   "source": [
    "import fiftyone as fo\n",
    "from fiftyone import ViewField as F"
   ]
  },
  {
   "cell_type": "code",
   "execution_count": null,
   "id": "e788fb3f",
   "metadata": {},
   "outputs": [],
   "source": [
    "print(fo.list_datasets())\n",
    "fo.delete_dataset('coco-dataset')"
   ]
  },
  {
   "cell_type": "code",
   "execution_count": null,
   "id": "65dcce6b",
   "metadata": {},
   "outputs": [],
   "source": [
    "fo.delete_dataset('coco-dataset')\n",
    "dataset = fo.Dataset.from_dir(\n",
    "    dataset_type=fo.types.COCODetectionDataset,\n",
    "    data_path=\"images\",                  \n",
    "    labels_path=\"labels/labels_v2.json\",\n",
    "    name=\"coco-dataset\"\n",
    ")\n",
    "dataset\n"
   ]
  },
  {
   "cell_type": "code",
   "execution_count": null,
   "id": "ac28e5cf",
   "metadata": {},
   "outputs": [],
   "source": [
    "\n",
    "view = dataset.match(\n",
    "    F(\"detections.detections\").filter(F(\"label\") == \"Head\").length() < 5\n",
    ")\n",
    "session = fo.launch_app(view)"
   ]
  }
 ],
 "metadata": {
  "kernelspec": {
   "display_name": "venv",
   "language": "python",
   "name": "python3"
  },
  "language_info": {
   "codemirror_mode": {
    "name": "ipython",
    "version": 3
   },
   "file_extension": ".py",
   "mimetype": "text/x-python",
   "name": "python",
   "nbconvert_exporter": "python",
   "pygments_lexer": "ipython3",
   "version": "3.12.3"
  }
 },
 "nbformat": 4,
 "nbformat_minor": 5
}
